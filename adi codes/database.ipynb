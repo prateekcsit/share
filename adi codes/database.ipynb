{
 "cells": [
  {
   "cell_type": "code",
   "execution_count": 1,
   "id": "36441a72",
   "metadata": {
    "scrolled": true
   },
   "outputs": [
    {
     "name": "stdout",
     "output_type": "stream",
     "text": [
      "Requirement already satisfied: mysql-connector-python in c:\\users\\pvashishtha\\anaconda3\\lib\\site-packages (8.0.31)\n",
      "Requirement already satisfied: protobuf<=3.20.1,>=3.11.0 in c:\\users\\pvashishtha\\anaconda3\\lib\\site-packages (from mysql-connector-python) (3.19.1)\n"
     ]
    }
   ],
   "source": [
    "! pip install mysql-connector-python"
   ]
  },
  {
   "cell_type": "code",
   "execution_count": 2,
   "id": "5db8fb1e",
   "metadata": {},
   "outputs": [],
   "source": [
    "import mysql.connector"
   ]
  },
  {
   "cell_type": "code",
   "execution_count": 10,
   "id": "ff5675fe",
   "metadata": {},
   "outputs": [],
   "source": [
    "# parameters setting\n",
    "host='localhost'\n",
    "user='root'\n",
    "password=''\n",
    "database='adi'\n",
    "port=3306"
   ]
  },
  {
   "cell_type": "code",
   "execution_count": 11,
   "id": "61e9970a",
   "metadata": {},
   "outputs": [
    {
     "name": "stdout",
     "output_type": "stream",
     "text": [
      "<mysql.connector.connection_cext.CMySQLConnection object at 0x0000023581300EB0>\n"
     ]
    }
   ],
   "source": [
    "# connection\n",
    "try:\n",
    "    conn=mysql.connector.connect(host=host,\n",
    "                                user=user,\n",
    "                                password=password,\n",
    "                                database=database,\n",
    "                                port=port)\n",
    "    print(conn)\n",
    "except:\n",
    "    print('Database not connected!')"
   ]
  },
  {
   "cell_type": "code",
   "execution_count": 12,
   "id": "bc67b18b",
   "metadata": {},
   "outputs": [
    {
     "name": "stdout",
     "output_type": "stream",
     "text": [
      "CMySQLCursor: (Nothing executed yet)\n"
     ]
    }
   ],
   "source": [
    "# cursor\n",
    "try:\n",
    "    cur=conn.cursor()\n",
    "    print(cur)\n",
    "except:\n",
    "    print('Cursor not created!')\n"
   ]
  },
  {
   "cell_type": "code",
   "execution_count": 13,
   "id": "91f230b9",
   "metadata": {},
   "outputs": [],
   "source": [
    "# insert\n",
    "sql='insert into product values(101, \"maggie\", 12.50)'"
   ]
  },
  {
   "cell_type": "code",
   "execution_count": 14,
   "id": "ebe3706a",
   "metadata": {},
   "outputs": [],
   "source": [
    "cur.execute(sql)"
   ]
  },
  {
   "cell_type": "code",
   "execution_count": 15,
   "id": "1955a600",
   "metadata": {},
   "outputs": [],
   "source": [
    "conn.commit()"
   ]
  },
  {
   "cell_type": "code",
   "execution_count": 17,
   "id": "2f526759",
   "metadata": {},
   "outputs": [],
   "source": [
    "pname='bread'\n",
    "price=55.0\n",
    "sql=f'insert into product values(103, \"{pname}\", {price})'\n",
    "cur.execute(sql)\n",
    "conn.commit()"
   ]
  },
  {
   "cell_type": "code",
   "execution_count": 18,
   "id": "585ba788",
   "metadata": {},
   "outputs": [],
   "source": [
    "# update\n",
    "sql='update product set price=81.70 where pid=102'\n",
    "cur.execute(sql)\n",
    "conn.commit()"
   ]
  },
  {
   "cell_type": "code",
   "execution_count": 19,
   "id": "8686ac77",
   "metadata": {},
   "outputs": [],
   "source": [
    "# read one at a time\n",
    "sql='select * from product'\n",
    "cur.execute(sql)"
   ]
  },
  {
   "cell_type": "code",
   "execution_count": 30,
   "id": "d9fa716b",
   "metadata": {},
   "outputs": [],
   "source": [
    "result=cur.fetchone()"
   ]
  },
  {
   "cell_type": "code",
   "execution_count": 31,
   "id": "7471e8ad",
   "metadata": {},
   "outputs": [
    {
     "data": {
      "text/plain": [
       "NoneType"
      ]
     },
     "execution_count": 31,
     "metadata": {},
     "output_type": "execute_result"
    }
   ],
   "source": [
    "type(result)"
   ]
  },
  {
   "cell_type": "code",
   "execution_count": 32,
   "id": "8d6bfa74",
   "metadata": {
    "collapsed": true
   },
   "outputs": [
    {
     "ename": "TypeError",
     "evalue": "'NoneType' object is not subscriptable",
     "output_type": "error",
     "traceback": [
      "\u001b[1;31m---------------------------------------------------------------------------\u001b[0m",
      "\u001b[1;31mTypeError\u001b[0m                                 Traceback (most recent call last)",
      "Input \u001b[1;32mIn [32]\u001b[0m, in \u001b[0;36m<cell line: 1>\u001b[1;34m()\u001b[0m\n\u001b[1;32m----> 1\u001b[0m \u001b[38;5;28mprint\u001b[39m(\u001b[38;5;124mf\u001b[39m\u001b[38;5;124m'\u001b[39m\u001b[38;5;124mPID: \u001b[39m\u001b[38;5;132;01m{\u001b[39;00mresult[\u001b[38;5;241m0\u001b[39m]\u001b[38;5;132;01m}\u001b[39;00m\u001b[38;5;130;01m\\n\u001b[39;00m\u001b[38;5;124mPNAME: \u001b[39m\u001b[38;5;132;01m{\u001b[39;00mresult[\u001b[38;5;241m1\u001b[39m]\u001b[38;5;132;01m}\u001b[39;00m\u001b[38;5;130;01m\\n\u001b[39;00m\u001b[38;5;124mPRICE: \u001b[39m\u001b[38;5;132;01m{\u001b[39;00mresult[\u001b[38;5;241m2\u001b[39m]\u001b[38;5;132;01m}\u001b[39;00m\u001b[38;5;124m'\u001b[39m)\n",
      "\u001b[1;31mTypeError\u001b[0m: 'NoneType' object is not subscriptable"
     ]
    }
   ],
   "source": [
    "print(f'PID: {result[0]}\\nPNAME: {result[1]}\\nPRICE: {result[2]}')"
   ]
  },
  {
   "cell_type": "code",
   "execution_count": 33,
   "id": "cee9eda6",
   "metadata": {},
   "outputs": [],
   "source": [
    "# all result at once\n",
    "sql='select * from product'\n",
    "cur.execute(sql)"
   ]
  },
  {
   "cell_type": "code",
   "execution_count": 34,
   "id": "309930c6",
   "metadata": {},
   "outputs": [],
   "source": [
    "resultset=cur.fetchall()"
   ]
  },
  {
   "cell_type": "code",
   "execution_count": 35,
   "id": "4062d9d7",
   "metadata": {},
   "outputs": [
    {
     "name": "stdout",
     "output_type": "stream",
     "text": [
      "PID: 101\n",
      "PNAME: maggie\n",
      "PRICE: 12.5\n",
      "------------------------------\n",
      "PID: 102\n",
      "PNAME: rice\n",
      "PRICE: 81.7\n",
      "------------------------------\n",
      "PID: 103\n",
      "PNAME: bread\n",
      "PRICE: 55.0\n",
      "------------------------------\n"
     ]
    }
   ],
   "source": [
    "for result in resultset:\n",
    "    print(f'PID: {result[0]}\\nPNAME: {result[1]}\\nPRICE: {result[2]}')\n",
    "    print('-'*30)"
   ]
  },
  {
   "cell_type": "code",
   "execution_count": 36,
   "id": "f3c9181e",
   "metadata": {},
   "outputs": [
    {
     "data": {
      "text/plain": [
       "list"
      ]
     },
     "execution_count": 36,
     "metadata": {},
     "output_type": "execute_result"
    }
   ],
   "source": [
    "type(resultset)"
   ]
  },
  {
   "cell_type": "code",
   "execution_count": 37,
   "id": "9a862385",
   "metadata": {},
   "outputs": [
    {
     "name": "stdout",
     "output_type": "stream",
     "text": [
      "[(101, 'maggie', 12.5), (102, 'rice', 81.7), (103, 'bread', 55.0)]\n"
     ]
    }
   ],
   "source": [
    "print(resultset)"
   ]
  },
  {
   "cell_type": "code",
   "execution_count": 38,
   "id": "39317b24",
   "metadata": {},
   "outputs": [],
   "source": [
    "# delete\n",
    "sql='delete from product where pid=103'\n",
    "cur.execute(sql)\n",
    "conn.commit()"
   ]
  },
  {
   "cell_type": "code",
   "execution_count": 39,
   "id": "65f9afbf",
   "metadata": {},
   "outputs": [],
   "source": [
    "# insertMany()\n",
    "sql='insert into product values(%s, %s, %s)'\n",
    "vals=[\n",
    "    (104, \"atta\", 35.0),\n",
    "    (105, \"toothpaste\", 79.50),\n",
    "    (106, \"butter\", 38.0)\n",
    "]"
   ]
  },
  {
   "cell_type": "code",
   "execution_count": 41,
   "id": "f1aa131d",
   "metadata": {},
   "outputs": [],
   "source": [
    "cur.executemany(sql, vals)\n",
    "conn.commit()"
   ]
  },
  {
   "cell_type": "code",
   "execution_count": 42,
   "id": "6ff82cc2",
   "metadata": {},
   "outputs": [],
   "source": [
    "# truncate\n",
    "sql='truncate table product'\n",
    "cur.execute(sql)\n",
    "conn.commit()"
   ]
  },
  {
   "cell_type": "code",
   "execution_count": 43,
   "id": "590351bf",
   "metadata": {},
   "outputs": [],
   "source": [
    "# drop\n",
    "sql='drop table product'\n",
    "cur.execute(sql)\n",
    "conn.commit()"
   ]
  },
  {
   "cell_type": "markdown",
   "id": "0bffcfc7",
   "metadata": {},
   "source": [
    "### CSV"
   ]
  },
  {
   "cell_type": "code",
   "execution_count": 44,
   "id": "5d71266d",
   "metadata": {},
   "outputs": [],
   "source": [
    "import csv"
   ]
  },
  {
   "cell_type": "code",
   "execution_count": 54,
   "id": "a3e90a50",
   "metadata": {},
   "outputs": [],
   "source": [
    "file=open('C:\\\\Users\\\\pvashishtha\\\\Desktop\\\\myfile.csv', 'r')\n",
    "data=csv.reader(file, delimiter=',')"
   ]
  },
  {
   "cell_type": "code",
   "execution_count": 55,
   "id": "a803897d",
   "metadata": {},
   "outputs": [
    {
     "data": {
      "text/plain": [
       "<_csv.reader at 0x235812cda00>"
      ]
     },
     "execution_count": 55,
     "metadata": {},
     "output_type": "execute_result"
    }
   ],
   "source": [
    "data"
   ]
  },
  {
   "cell_type": "code",
   "execution_count": 56,
   "id": "bf14a647",
   "metadata": {},
   "outputs": [
    {
     "name": "stdout",
     "output_type": "stream",
     "text": [
      "NAME MARKS CLASS\n",
      "prateek 90 1\n",
      "aditi 95 1\n",
      "dolly 73 2\n",
      "saksham 54 3\n"
     ]
    }
   ],
   "source": [
    "for row in data:\n",
    "    print(row[0], row[1], row[2])"
   ]
  },
  {
   "cell_type": "code",
   "execution_count": 62,
   "id": "c8856f7e",
   "metadata": {},
   "outputs": [],
   "source": [
    "file=open('C:\\\\Users\\\\pvashishtha\\\\Desktop\\\\myfile.csv', 'r')\n",
    "data=csv.DictReader(file, delimiter=',')"
   ]
  },
  {
   "cell_type": "code",
   "execution_count": 63,
   "id": "ff26ca2b",
   "metadata": {},
   "outputs": [
    {
     "data": {
      "text/plain": [
       "<csv.DictReader at 0x235812fd700>"
      ]
     },
     "execution_count": 63,
     "metadata": {},
     "output_type": "execute_result"
    }
   ],
   "source": [
    "data"
   ]
  },
  {
   "cell_type": "code",
   "execution_count": 64,
   "id": "ff06659b",
   "metadata": {},
   "outputs": [
    {
     "name": "stdout",
     "output_type": "stream",
     "text": [
      "prateek 90 1\n",
      "aditi 95 1\n",
      "dolly 73 2\n",
      "saksham 54 3\n"
     ]
    }
   ],
   "source": [
    "for row in data:\n",
    "    print(row['NAME'], row['MARKS'], row[\"CLASS\"])"
   ]
  },
  {
   "cell_type": "code",
   "execution_count": 65,
   "id": "52796a42",
   "metadata": {},
   "outputs": [],
   "source": [
    "# writing to CSV"
   ]
  },
  {
   "cell_type": "code",
   "execution_count": 96,
   "id": "ad9aed1e",
   "metadata": {},
   "outputs": [],
   "source": [
    "file=open('new_myfile.csv', 'a')"
   ]
  },
  {
   "cell_type": "code",
   "execution_count": 97,
   "id": "504065e4",
   "metadata": {},
   "outputs": [],
   "source": [
    "#data=[{'PRODUCT','PRICE'},{'maggie', 20},{'atta', 60}]"
   ]
  },
  {
   "cell_type": "code",
   "execution_count": 98,
   "id": "eb10a990",
   "metadata": {},
   "outputs": [],
   "source": [
    "writer=csv.writer(file)"
   ]
  },
  {
   "cell_type": "code",
   "execution_count": 99,
   "id": "0e6a2cc6",
   "metadata": {},
   "outputs": [],
   "source": [
    "#writer.writerows(data)"
   ]
  },
  {
   "cell_type": "code",
   "execution_count": 100,
   "id": "94d098a2",
   "metadata": {},
   "outputs": [
    {
     "name": "stdout",
     "output_type": "stream",
     "text": [
      "Product: bread\n",
      "Price: 45\n"
     ]
    },
    {
     "data": {
      "text/plain": [
       "10"
      ]
     },
     "execution_count": 100,
     "metadata": {},
     "output_type": "execute_result"
    }
   ],
   "source": [
    "product, price = input('Product: '),int(input('Price: '))\n",
    "writer.writerow([product, price])"
   ]
  },
  {
   "cell_type": "code",
   "execution_count": 101,
   "id": "395d7fed",
   "metadata": {},
   "outputs": [],
   "source": [
    "file.close()"
   ]
  },
  {
   "cell_type": "code",
   "execution_count": 112,
   "id": "ee6f637c",
   "metadata": {},
   "outputs": [],
   "source": [
    "file=open('myfile2.csv', 'w')\n",
    "dw=csv.DictWriter(file, fieldnames=['PRODUCT','PRICE'])\n",
    "data=[{'PRODUCT':'maggie', 'PRICE':20},{'PRODUCT':'atta', 'PRICE':60}]\n",
    "dw.writeheader()\n",
    "dw.writerows(data)\n",
    "file.close()"
   ]
  },
  {
   "cell_type": "markdown",
   "id": "0a1b7572",
   "metadata": {},
   "source": [
    "### JSON"
   ]
  },
  {
   "cell_type": "code",
   "execution_count": 114,
   "id": "a2b21b54",
   "metadata": {},
   "outputs": [],
   "source": [
    "import json"
   ]
  },
  {
   "cell_type": "code",
   "execution_count": 118,
   "id": "095b46ec",
   "metadata": {},
   "outputs": [
    {
     "name": "stdout",
     "output_type": "stream",
     "text": [
      "{'1': {'product': 'butter', 'price': 120}, '2': {'product': 'cheese', 'price': 270}, '3': {'product': 'jam', 'price': 180}}\n"
     ]
    }
   ],
   "source": [
    "with open('mydata.json','r') as file:\n",
    "    data=json.load(file)\n",
    "    print(data)"
   ]
  },
  {
   "cell_type": "code",
   "execution_count": 116,
   "id": "f8bd4950",
   "metadata": {},
   "outputs": [
    {
     "data": {
      "text/plain": [
       "dict"
      ]
     },
     "execution_count": 116,
     "metadata": {},
     "output_type": "execute_result"
    }
   ],
   "source": [
    "type(data)"
   ]
  },
  {
   "cell_type": "code",
   "execution_count": 119,
   "id": "e58bbe59",
   "metadata": {},
   "outputs": [
    {
     "name": "stdout",
     "output_type": "stream",
     "text": [
      "{'1': {'product': 'butter', 'price': 120}, '2': {'product': 'cheese', 'price': 270}, '3': {'product': 'jam', 'price': 180}}\n"
     ]
    }
   ],
   "source": [
    "with open('mydata.json','r') as file:\n",
    "    data=file.read()\n",
    "    json_data=json.loads(data)\n",
    "    print(json_data)"
   ]
  },
  {
   "cell_type": "code",
   "execution_count": 120,
   "id": "cbb631df",
   "metadata": {},
   "outputs": [
    {
     "data": {
      "text/plain": [
       "dict_keys(['1', '2', '3'])"
      ]
     },
     "execution_count": 120,
     "metadata": {},
     "output_type": "execute_result"
    }
   ],
   "source": [
    "json_data.keys()"
   ]
  },
  {
   "cell_type": "code",
   "execution_count": 123,
   "id": "4fe76013",
   "metadata": {},
   "outputs": [
    {
     "data": {
      "text/plain": [
       "'butter'"
      ]
     },
     "execution_count": 123,
     "metadata": {},
     "output_type": "execute_result"
    }
   ],
   "source": [
    "json_data[\"1\"]['product']"
   ]
  },
  {
   "cell_type": "code",
   "execution_count": 124,
   "id": "a097ece5",
   "metadata": {},
   "outputs": [
    {
     "data": {
      "text/plain": [
       "120"
      ]
     },
     "execution_count": 124,
     "metadata": {},
     "output_type": "execute_result"
    }
   ],
   "source": [
    "json_data[\"1\"]['price']"
   ]
  },
  {
   "cell_type": "code",
   "execution_count": 127,
   "id": "2516d0aa",
   "metadata": {},
   "outputs": [
    {
     "name": "stdout",
     "output_type": "stream",
     "text": [
      "Product: butter,  Price: 120\n",
      "------------------------------\n",
      "Product: cheese,  Price: 270\n",
      "------------------------------\n",
      "Product: jam,  Price: 180\n",
      "------------------------------\n"
     ]
    }
   ],
   "source": [
    "for key in json_data.keys():\n",
    "    print(f'Product: {json_data[key][\"product\"]}, ', end=' ')\n",
    "    print(f'Price: {json_data[key][\"price\"]}')\n",
    "    print('-'*30)"
   ]
  },
  {
   "cell_type": "code",
   "execution_count": 128,
   "id": "20002fd9",
   "metadata": {},
   "outputs": [
    {
     "data": {
      "text/plain": [
       "'{\\n    \"1\":{\"product\":\"butter\",\"price\":120},\\n    \"2\":{\"product\":\"cheese\",\"price\":270},\\n    \"3\":{\"product\":\"jam\",\"price\":180}\\n}'"
      ]
     },
     "execution_count": 128,
     "metadata": {},
     "output_type": "execute_result"
    }
   ],
   "source": [
    "data"
   ]
  },
  {
   "cell_type": "code",
   "execution_count": 132,
   "id": "c6f2d67c",
   "metadata": {},
   "outputs": [],
   "source": [
    "with open('myadata3.json', 'w') as file:\n",
    "    json.dump(json_data, file, indent=3)"
   ]
  },
  {
   "cell_type": "code",
   "execution_count": null,
   "id": "c8a27b7c",
   "metadata": {},
   "outputs": [],
   "source": []
  }
 ],
 "metadata": {
  "kernelspec": {
   "display_name": "Python 3 (ipykernel)",
   "language": "python",
   "name": "python3"
  },
  "language_info": {
   "codemirror_mode": {
    "name": "ipython",
    "version": 3
   },
   "file_extension": ".py",
   "mimetype": "text/x-python",
   "name": "python",
   "nbconvert_exporter": "python",
   "pygments_lexer": "ipython3",
   "version": "3.9.12"
  }
 },
 "nbformat": 4,
 "nbformat_minor": 5
}
