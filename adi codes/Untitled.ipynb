{
 "cells": [
  {
   "cell_type": "markdown",
   "id": "f11d4877",
   "metadata": {},
   "source": [
    "### Lambda Functions\n",
    "Lambda functions are anonymous functions that can accept any number of args but executes a single statement or expr"
   ]
  },
  {
   "cell_type": "code",
   "execution_count": 1,
   "id": "6f038265",
   "metadata": {},
   "outputs": [],
   "source": [
    "def myfun(x):\n",
    "    x=x+10\n",
    "    return x"
   ]
  },
  {
   "cell_type": "code",
   "execution_count": 2,
   "id": "58738a29",
   "metadata": {},
   "outputs": [
    {
     "data": {
      "text/plain": [
       "20"
      ]
     },
     "execution_count": 2,
     "metadata": {},
     "output_type": "execute_result"
    }
   ],
   "source": [
    "myfun(10)"
   ]
  },
  {
   "cell_type": "code",
   "execution_count": 3,
   "id": "b6bc4693",
   "metadata": {},
   "outputs": [],
   "source": [
    "f=myfun(5)"
   ]
  },
  {
   "cell_type": "code",
   "execution_count": 4,
   "id": "c9d9add2",
   "metadata": {},
   "outputs": [
    {
     "data": {
      "text/plain": [
       "15"
      ]
     },
     "execution_count": 4,
     "metadata": {},
     "output_type": "execute_result"
    }
   ],
   "source": [
    "f"
   ]
  },
  {
   "cell_type": "code",
   "execution_count": 5,
   "id": "f0628eb3",
   "metadata": {},
   "outputs": [],
   "source": [
    "f=myfun"
   ]
  },
  {
   "cell_type": "code",
   "execution_count": 6,
   "id": "c8a0856d",
   "metadata": {},
   "outputs": [
    {
     "data": {
      "text/plain": [
       "<function __main__.myfun(x)>"
      ]
     },
     "execution_count": 6,
     "metadata": {},
     "output_type": "execute_result"
    }
   ],
   "source": [
    "f"
   ]
  },
  {
   "cell_type": "code",
   "execution_count": 7,
   "id": "0684890f",
   "metadata": {},
   "outputs": [
    {
     "data": {
      "text/plain": [
       "12"
      ]
     },
     "execution_count": 7,
     "metadata": {},
     "output_type": "execute_result"
    }
   ],
   "source": [
    "f(2)"
   ]
  },
  {
   "cell_type": "code",
   "execution_count": 8,
   "id": "171f9c84",
   "metadata": {},
   "outputs": [],
   "source": [
    "# lambda\n",
    "\n",
    "# lambda <args> : <stmt/expr>"
   ]
  },
  {
   "cell_type": "code",
   "execution_count": 9,
   "id": "1383d5e4",
   "metadata": {},
   "outputs": [
    {
     "data": {
      "text/plain": [
       "<function __main__.<lambda>(x)>"
      ]
     },
     "execution_count": 9,
     "metadata": {},
     "output_type": "execute_result"
    }
   ],
   "source": [
    "f=lambda x: x**2\n",
    "f"
   ]
  },
  {
   "cell_type": "code",
   "execution_count": 10,
   "id": "2e6b20fa",
   "metadata": {},
   "outputs": [
    {
     "data": {
      "text/plain": [
       "9"
      ]
     },
     "execution_count": 10,
     "metadata": {},
     "output_type": "execute_result"
    }
   ],
   "source": [
    "f(3)"
   ]
  },
  {
   "cell_type": "code",
   "execution_count": 28,
   "id": "f8903ebe",
   "metadata": {},
   "outputs": [],
   "source": [
    "def power(y):\n",
    "    return lambda x: x**y"
   ]
  },
  {
   "cell_type": "code",
   "execution_count": 29,
   "id": "d8361801",
   "metadata": {},
   "outputs": [
    {
     "data": {
      "text/plain": [
       "<function __main__.power.<locals>.<lambda>(x)>"
      ]
     },
     "execution_count": 29,
     "metadata": {},
     "output_type": "execute_result"
    }
   ],
   "source": [
    "power(2) # lambda x, 2 : x**2"
   ]
  },
  {
   "cell_type": "code",
   "execution_count": 30,
   "id": "5b749311",
   "metadata": {},
   "outputs": [],
   "source": [
    "p2=power(2) # lambda x, 2 : x**2\n",
    "p3=power(3) # lambda x, 3 : x**3\n",
    "p4=power(4) # lambda x, 4 : x**4"
   ]
  },
  {
   "cell_type": "code",
   "execution_count": 33,
   "id": "feea2ac7",
   "metadata": {},
   "outputs": [
    {
     "data": {
      "text/plain": [
       "81"
      ]
     },
     "execution_count": 33,
     "metadata": {},
     "output_type": "execute_result"
    }
   ],
   "source": [
    "p2(9)"
   ]
  },
  {
   "cell_type": "code",
   "execution_count": 34,
   "id": "edaac3bc",
   "metadata": {},
   "outputs": [
    {
     "data": {
      "text/plain": [
       "27"
      ]
     },
     "execution_count": 34,
     "metadata": {},
     "output_type": "execute_result"
    }
   ],
   "source": [
    "p3(3)"
   ]
  },
  {
   "cell_type": "code",
   "execution_count": 35,
   "id": "2a9d3a82",
   "metadata": {},
   "outputs": [
    {
     "data": {
      "text/plain": [
       "81"
      ]
     },
     "execution_count": 35,
     "metadata": {},
     "output_type": "execute_result"
    }
   ],
   "source": [
    "p4(3)"
   ]
  },
  {
   "cell_type": "code",
   "execution_count": 36,
   "id": "b7921b15",
   "metadata": {},
   "outputs": [],
   "source": [
    "# MAP\n",
    " # map(user_map_function, iterable) - returns map object\n",
    "    # li=[1,2,3,4,5]"
   ]
  },
  {
   "cell_type": "code",
   "execution_count": 37,
   "id": "fc702216",
   "metadata": {},
   "outputs": [],
   "source": [
    "def mymap(x):\n",
    "    return x**2"
   ]
  },
  {
   "cell_type": "code",
   "execution_count": 39,
   "id": "6ac20046",
   "metadata": {},
   "outputs": [],
   "source": [
    "li=[1,2,3,4,5]\n",
    "values=map(mymap, li)"
   ]
  },
  {
   "cell_type": "code",
   "execution_count": 40,
   "id": "612fe6a9",
   "metadata": {},
   "outputs": [
    {
     "data": {
      "text/plain": [
       "[1, 4, 9, 16, 25]"
      ]
     },
     "execution_count": 40,
     "metadata": {},
     "output_type": "execute_result"
    }
   ],
   "source": [
    "list(values)"
   ]
  },
  {
   "cell_type": "code",
   "execution_count": 43,
   "id": "8c4bd44b",
   "metadata": {},
   "outputs": [
    {
     "data": {
      "text/plain": [
       "[6, 7, 8, 9, 10]"
      ]
     },
     "execution_count": 43,
     "metadata": {},
     "output_type": "execute_result"
    }
   ],
   "source": [
    "# map() with lambda\n",
    "list(map(lambda x: x+5, li))"
   ]
  },
  {
   "cell_type": "code",
   "execution_count": 44,
   "id": "1b1b6ec6",
   "metadata": {},
   "outputs": [],
   "source": [
    "# Filter\n",
    "    # filter(user_filter_function, iterable)"
   ]
  },
  {
   "cell_type": "code",
   "execution_count": 49,
   "id": "885418bc",
   "metadata": {},
   "outputs": [],
   "source": [
    "def myfilter(x):\n",
    "    return x>5"
   ]
  },
  {
   "cell_type": "code",
   "execution_count": 50,
   "id": "ba55abef",
   "metadata": {},
   "outputs": [],
   "source": [
    "vals=filter(myfilter, [1,2,5,4,6,8,7,9,3,10])"
   ]
  },
  {
   "cell_type": "code",
   "execution_count": 51,
   "id": "ffce158c",
   "metadata": {},
   "outputs": [
    {
     "data": {
      "text/plain": [
       "[6, 8, 7, 9, 10]"
      ]
     },
     "execution_count": 51,
     "metadata": {},
     "output_type": "execute_result"
    }
   ],
   "source": [
    "list(vals)"
   ]
  },
  {
   "cell_type": "code",
   "execution_count": 56,
   "id": "99111758",
   "metadata": {},
   "outputs": [
    {
     "data": {
      "text/plain": [
       "[1, 2, 5, 4, 3]"
      ]
     },
     "execution_count": 56,
     "metadata": {},
     "output_type": "execute_result"
    }
   ],
   "source": [
    "# filter() with lambda\n",
    "list(filter(lambda x:x<6, [1,2,5,4,6,8,7,9,3,10]))"
   ]
  },
  {
   "cell_type": "code",
   "execution_count": 57,
   "id": "4a4dd50d",
   "metadata": {},
   "outputs": [],
   "source": [
    "# reduce()\n",
    "    # reduce(user_agg_func, iterable)"
   ]
  },
  {
   "cell_type": "code",
   "execution_count": 58,
   "id": "4f68aea6",
   "metadata": {},
   "outputs": [],
   "source": [
    "def myagg(x, y):\n",
    "    return x+y"
   ]
  },
  {
   "cell_type": "code",
   "execution_count": 59,
   "id": "6ed3b569",
   "metadata": {},
   "outputs": [],
   "source": [
    "from functools import reduce"
   ]
  },
  {
   "cell_type": "code",
   "execution_count": 60,
   "id": "c0e33d92",
   "metadata": {},
   "outputs": [
    {
     "data": {
      "text/plain": [
       "55"
      ]
     },
     "execution_count": 60,
     "metadata": {},
     "output_type": "execute_result"
    }
   ],
   "source": [
    "reduce(myagg, [1,2,5,4,6,8,7,9,3,10])"
   ]
  },
  {
   "cell_type": "code",
   "execution_count": 62,
   "id": "b1bd4ed2",
   "metadata": {},
   "outputs": [
    {
     "data": {
      "text/plain": [
       "3628800"
      ]
     },
     "execution_count": 62,
     "metadata": {},
     "output_type": "execute_result"
    }
   ],
   "source": [
    "# reduce() with lambda\n",
    "reduce(lambda x, y: x*y, [1,2,5,4,6,8,7,9,3,10])"
   ]
  },
  {
   "cell_type": "markdown",
   "id": "49dd6e34",
   "metadata": {},
   "source": [
    "### List Comprehension"
   ]
  },
  {
   "cell_type": "code",
   "execution_count": 63,
   "id": "2b113805",
   "metadata": {},
   "outputs": [],
   "source": [
    "li=[1,2,3,4,5]"
   ]
  },
  {
   "cell_type": "code",
   "execution_count": 67,
   "id": "d9f98a4d",
   "metadata": {},
   "outputs": [
    {
     "name": "stdout",
     "output_type": "stream",
     "text": [
      "[2, 4, 6, 8, 10, 12, 14, 16, 18, 20, 22, 24, 26, 28, 30, 32, 34, 36, 38, 40, 42, 44, 46, 48, 50, 52, 54, 56, 58, 60, 62, 64, 66, 68, 70, 72, 74, 76, 78, 80, 82, 84, 86, 88, 90, 92, 94, 96, 98, 100]\n"
     ]
    }
   ],
   "source": [
    "li=[e for e in range(1,101) if e%2==0]\n",
    "print(li)"
   ]
  },
  {
   "cell_type": "code",
   "execution_count": 68,
   "id": "014cd177",
   "metadata": {},
   "outputs": [
    {
     "data": {
      "text/plain": [
       "[0, 1, 2, 3, 4, 5, 6, 7, 8, 9]"
      ]
     },
     "execution_count": 68,
     "metadata": {},
     "output_type": "execute_result"
    }
   ],
   "source": [
    "li=[x for x in range(10)]\n",
    "li"
   ]
  },
  {
   "cell_type": "code",
   "execution_count": 69,
   "id": "3028a17f",
   "metadata": {},
   "outputs": [
    {
     "name": "stdout",
     "output_type": "stream",
     "text": [
      "12345\n"
     ]
    },
    {
     "data": {
      "text/plain": [
       "[1, 2, 3, 4, 5]"
      ]
     },
     "execution_count": 69,
     "metadata": {},
     "output_type": "execute_result"
    }
   ],
   "source": [
    "li=[int(x) for x in input()]\n",
    "li"
   ]
  },
  {
   "cell_type": "code",
   "execution_count": 70,
   "id": "b363ecd2",
   "metadata": {},
   "outputs": [
    {
     "data": {
      "text/plain": [
       "False"
      ]
     },
     "execution_count": 70,
     "metadata": {},
     "output_type": "execute_result"
    }
   ],
   "source": [
    "# tertiary operation\n",
    "x=7\n",
    "y= True if x%2==0 else False\n",
    "y"
   ]
  },
  {
   "cell_type": "code",
   "execution_count": 72,
   "id": "3ac83826",
   "metadata": {},
   "outputs": [
    {
     "name": "stdout",
     "output_type": "stream",
     "text": [
      "['A', 'B', 'C', 'D', 'E', 'F', 'G', 'H', 'I', 'J', 'K', 'L', 'M', 'N', 'O', 'P', 'Q', 'R', 'S', 'T', 'U', 'V', 'W', 'X', 'Y', 'Z']\n"
     ]
    }
   ],
   "source": [
    "li=[chr(x) for x in range(65, 91)]\n",
    "print(li)"
   ]
  },
  {
   "cell_type": "code",
   "execution_count": 82,
   "id": "dbfd4e17",
   "metadata": {},
   "outputs": [
    {
     "name": "stdout",
     "output_type": "stream",
     "text": [
      "['E', 'J', 'O', 'T', 'Y']\n"
     ]
    }
   ],
   "source": [
    "li=[chr(x) for x in range(65, 91) if (x-64)%5==0]\n",
    "print(li)"
   ]
  },
  {
   "cell_type": "code",
   "execution_count": 83,
   "id": "8b8e209c",
   "metadata": {},
   "outputs": [],
   "source": [
    "# multiple returns"
   ]
  },
  {
   "cell_type": "code",
   "execution_count": 84,
   "id": "fae39bab",
   "metadata": {},
   "outputs": [],
   "source": [
    "# zip(iter1, iter2)"
   ]
  },
  {
   "cell_type": "code",
   "execution_count": 85,
   "id": "1d67e0af",
   "metadata": {},
   "outputs": [
    {
     "name": "stdout",
     "output_type": "stream",
     "text": [
      "1 10\n",
      "2 20\n",
      "3 30\n",
      "4 40\n",
      "5 50\n"
     ]
    }
   ],
   "source": [
    "li1=[1,2,3,4,5]\n",
    "li2=[10,20,30,40,50]\n",
    "\n",
    "for indx in range(len(li)):\n",
    "    print(li1[indx], li2[indx])"
   ]
  },
  {
   "cell_type": "code",
   "execution_count": 87,
   "id": "0028cbb1",
   "metadata": {},
   "outputs": [
    {
     "name": "stdout",
     "output_type": "stream",
     "text": [
      "(1, 10)\n",
      "(2, 20)\n",
      "(3, 30)\n",
      "(4, 40)\n",
      "(5, 50)\n"
     ]
    }
   ],
   "source": [
    "for x, y in zip(li1, li2):\n",
    "    print((x,y))"
   ]
  },
  {
   "cell_type": "code",
   "execution_count": 88,
   "id": "fb3fda0a",
   "metadata": {},
   "outputs": [
    {
     "name": "stdout",
     "output_type": "stream",
     "text": [
      "[(1, 10), (2, 20), (3, 30), (4, 40), (5, 50)]\n"
     ]
    }
   ],
   "source": [
    "li=[(x,y) for x,y in zip(li1, li2)]\n",
    "print(li)"
   ]
  },
  {
   "cell_type": "code",
   "execution_count": 90,
   "id": "378c287a",
   "metadata": {},
   "outputs": [
    {
     "name": "stdout",
     "output_type": "stream",
     "text": [
      "[(0, 90), (0, 91), (0, 92), (0, 93), (0, 94), (0, 95), (0, 96), (0, 97), (0, 98), (0, 99), (1, 90), (1, 91), (1, 92), (1, 93), (1, 94), (1, 95), (1, 96), (1, 97), (1, 98), (1, 99), (2, 90), (2, 91), (2, 92), (2, 93), (2, 94), (2, 95), (2, 96), (2, 97), (2, 98), (2, 99), (3, 90), (3, 91), (3, 92), (3, 93), (3, 94), (3, 95), (3, 96), (3, 97), (3, 98), (3, 99), (4, 90), (4, 91), (4, 92), (4, 93), (4, 94), (4, 95), (4, 96), (4, 97), (4, 98), (4, 99), (5, 90), (5, 91), (5, 92), (5, 93), (5, 94), (5, 95), (5, 96), (5, 97), (5, 98), (5, 99), (6, 90), (6, 91), (6, 92), (6, 93), (6, 94), (6, 95), (6, 96), (6, 97), (6, 98), (6, 99), (7, 90), (7, 91), (7, 92), (7, 93), (7, 94), (7, 95), (7, 96), (7, 97), (7, 98), (7, 99), (8, 90), (8, 91), (8, 92), (8, 93), (8, 94), (8, 95), (8, 96), (8, 97), (8, 98), (8, 99), (9, 90), (9, 91), (9, 92), (9, 93), (9, 94), (9, 95), (9, 96), (9, 97), (9, 98), (9, 99)]\n"
     ]
    }
   ],
   "source": [
    "li=[(a,b) for a in range(10) for b in range(90,100)]\n",
    "print(li)"
   ]
  },
  {
   "cell_type": "code",
   "execution_count": 91,
   "id": "893ca783",
   "metadata": {},
   "outputs": [],
   "source": [
    "# sort()"
   ]
  },
  {
   "cell_type": "code",
   "execution_count": 93,
   "id": "1101a5c9",
   "metadata": {},
   "outputs": [
    {
     "ename": "AttributeError",
     "evalue": "'tuple' object has no attribute 'sort'",
     "output_type": "error",
     "traceback": [
      "\u001b[1;31m---------------------------------------------------------------------------\u001b[0m",
      "\u001b[1;31mAttributeError\u001b[0m                            Traceback (most recent call last)",
      "Input \u001b[1;32mIn [93]\u001b[0m, in \u001b[0;36m<cell line: 2>\u001b[1;34m()\u001b[0m\n\u001b[0;32m      1\u001b[0m t\u001b[38;5;241m=\u001b[39m(\u001b[38;5;241m5\u001b[39m,\u001b[38;5;241m4\u001b[39m,\u001b[38;5;241m3\u001b[39m,\u001b[38;5;241m2\u001b[39m,\u001b[38;5;241m1\u001b[39m)\n\u001b[1;32m----> 2\u001b[0m \u001b[43mt\u001b[49m\u001b[38;5;241;43m.\u001b[39;49m\u001b[43msort\u001b[49m()\n",
      "\u001b[1;31mAttributeError\u001b[0m: 'tuple' object has no attribute 'sort'"
     ]
    }
   ],
   "source": [
    "t=(5,4,3,2,1)\n",
    "t.sort()"
   ]
  },
  {
   "cell_type": "code",
   "execution_count": 94,
   "id": "c17c2508",
   "metadata": {},
   "outputs": [
    {
     "name": "stdout",
     "output_type": "stream",
     "text": [
      "[0, 1, 2, 3, 4, 5, 6, 7, 8, 9]\n"
     ]
    }
   ],
   "source": [
    "li=[9,8,7,6,5,4,3,2,1,0]\n",
    "li.sort()\n",
    "print(li)"
   ]
  },
  {
   "cell_type": "code",
   "execution_count": 97,
   "id": "36f252a0",
   "metadata": {},
   "outputs": [
    {
     "name": "stdout",
     "output_type": "stream",
     "text": [
      "[9, 7, 5, 4, 3, 2, 2, 1, 1]\n"
     ]
    }
   ],
   "source": [
    "li=[1,2,5,3,7,9,4,2,1]\n",
    "li.sort(reverse=True)\n",
    "print(li)"
   ]
  },
  {
   "cell_type": "code",
   "execution_count": 98,
   "id": "e1032484",
   "metadata": {},
   "outputs": [],
   "source": [
    "# sorted(iterable)"
   ]
  },
  {
   "cell_type": "code",
   "execution_count": 99,
   "id": "cd37722f",
   "metadata": {},
   "outputs": [
    {
     "name": "stdout",
     "output_type": "stream",
     "text": [
      "[1, 2, 3, 4, 5]\n",
      "[5, 4, 3, 2, 1]\n"
     ]
    }
   ],
   "source": [
    "li=[5,4,3,2,1]\n",
    "print(sorted(li))\n",
    "print(li)"
   ]
  },
  {
   "cell_type": "code",
   "execution_count": 100,
   "id": "12d6998d",
   "metadata": {},
   "outputs": [
    {
     "name": "stdout",
     "output_type": "stream",
     "text": [
      "[1, 2, 3, 4, 5]\n",
      "(5, 4, 3, 2, 1)\n"
     ]
    }
   ],
   "source": [
    "li=(5,4,3,2,1)\n",
    "print(sorted(li))\n",
    "print(li)"
   ]
  },
  {
   "cell_type": "code",
   "execution_count": 106,
   "id": "c0eb62ee",
   "metadata": {},
   "outputs": [
    {
     "name": "stdout",
     "output_type": "stream",
     "text": [
      "[1, 2, 3, 4, 5]\n"
     ]
    },
    {
     "data": {
      "text/plain": [
       "{1: 10, 2: 20, 3: 30, 4: 40, 5: 50}"
      ]
     },
     "execution_count": 106,
     "metadata": {},
     "output_type": "execute_result"
    }
   ],
   "source": [
    "d={1:10, 2:20, 3:30, 4:40, 5:50}\n",
    "print(sorted(d))\n",
    "d"
   ]
  },
  {
   "cell_type": "code",
   "execution_count": 107,
   "id": "e6fdbb1e",
   "metadata": {},
   "outputs": [
    {
     "name": "stdout",
     "output_type": "stream",
     "text": [
      "[10, 20, 30, 40, 50]\n"
     ]
    },
    {
     "data": {
      "text/plain": [
       "{1: 10, 2: 20, 3: 30, 4: 40, 5: 50}"
      ]
     },
     "execution_count": 107,
     "metadata": {},
     "output_type": "execute_result"
    }
   ],
   "source": [
    "d={1:10, 2:20, 3:30, 4:40, 5:50}\n",
    "print(sorted(d.values()))\n",
    "d"
   ]
  },
  {
   "cell_type": "code",
   "execution_count": 108,
   "id": "6b152188",
   "metadata": {},
   "outputs": [
    {
     "name": "stdout",
     "output_type": "stream",
     "text": [
      "[50, 40, 30, 20, 10]\n"
     ]
    },
    {
     "data": {
      "text/plain": [
       "{1: 10, 2: 20, 3: 30, 4: 40, 5: 50}"
      ]
     },
     "execution_count": 108,
     "metadata": {},
     "output_type": "execute_result"
    }
   ],
   "source": [
    "d={1:10, 2:20, 3:30, 4:40, 5:50}\n",
    "print(sorted(d.values(), reverse=True))\n",
    "d"
   ]
  },
  {
   "cell_type": "code",
   "execution_count": 1,
   "id": "d0ae72ee",
   "metadata": {},
   "outputs": [
    {
     "name": "stdout",
     "output_type": "stream",
     "text": [
      "-101\n"
     ]
    }
   ],
   "source": [
    "x=100\n",
    "print(~x)"
   ]
  },
  {
   "cell_type": "code",
   "execution_count": 3,
   "id": "8e5e9b98",
   "metadata": {},
   "outputs": [],
   "source": [
    "from sys import argv"
   ]
  },
  {
   "cell_type": "code",
   "execution_count": 4,
   "id": "60d04e3e",
   "metadata": {},
   "outputs": [
    {
     "data": {
      "text/plain": [
       "['C:\\\\Users\\\\pvashishtha\\\\Anaconda3\\\\lib\\\\site-packages\\\\ipykernel_launcher.py',\n",
       " '-f',\n",
       " 'C:\\\\Users\\\\pvashishtha\\\\AppData\\\\Roaming\\\\jupyter\\\\runtime\\\\kernel-f4c11bd5-994d-4501-9a3c-dbb1350a569d.json']"
      ]
     },
     "execution_count": 4,
     "metadata": {},
     "output_type": "execute_result"
    }
   ],
   "source": [
    "argv"
   ]
  },
  {
   "cell_type": "code",
   "execution_count": 5,
   "id": "04cf4ad7",
   "metadata": {},
   "outputs": [
    {
     "data": {
      "text/plain": [
       "(2+3j)"
      ]
     },
     "execution_count": 5,
     "metadata": {},
     "output_type": "execute_result"
    }
   ],
   "source": [
    "k=complex(2,3)\n",
    "k"
   ]
  },
  {
   "cell_type": "code",
   "execution_count": 6,
   "id": "0dd15ae9",
   "metadata": {},
   "outputs": [
    {
     "data": {
      "text/plain": [
       "(2-3j)"
      ]
     },
     "execution_count": 6,
     "metadata": {},
     "output_type": "execute_result"
    }
   ],
   "source": [
    "k=2-3j\n",
    "k"
   ]
  },
  {
   "cell_type": "markdown",
   "id": "c1cfbaa4",
   "metadata": {},
   "source": [
    "### Call be ref"
   ]
  },
  {
   "cell_type": "code",
   "execution_count": 2,
   "id": "8fd18761",
   "metadata": {},
   "outputs": [
    {
     "data": {
      "text/plain": [
       "(3, 6)"
      ]
     },
     "execution_count": 2,
     "metadata": {},
     "output_type": "execute_result"
    }
   ],
   "source": [
    "def myfun(a, b):\n",
    "    a+=1\n",
    "    b+=3\n",
    "    return a,b\n",
    "\n",
    "x,y=2,3\n",
    "myfun(x,y)"
   ]
  },
  {
   "cell_type": "code",
   "execution_count": 3,
   "id": "63152027",
   "metadata": {},
   "outputs": [
    {
     "name": "stdout",
     "output_type": "stream",
     "text": [
      "2 3\n"
     ]
    }
   ],
   "source": [
    "print(x,y)"
   ]
  },
  {
   "cell_type": "code",
   "execution_count": 4,
   "id": "9fda5c05",
   "metadata": {},
   "outputs": [
    {
     "name": "stdout",
     "output_type": "stream",
     "text": [
      "[11, 12, 13, 14, 15]\n"
     ]
    }
   ],
   "source": [
    "def myfun(col):\n",
    "    for indx in range(len(col)):\n",
    "        col[indx]+=10\n",
    "    print(col)\n",
    "    return None\n",
    "\n",
    "li=[1,2,3,4,5]\n",
    "myfun(li)"
   ]
  },
  {
   "cell_type": "code",
   "execution_count": 5,
   "id": "668f37d2",
   "metadata": {},
   "outputs": [
    {
     "name": "stdout",
     "output_type": "stream",
     "text": [
      "[11, 12, 13, 14, 15]\n"
     ]
    }
   ],
   "source": [
    "print(li)"
   ]
  },
  {
   "cell_type": "markdown",
   "id": "28117589",
   "metadata": {},
   "source": [
    "### Varible length args"
   ]
  },
  {
   "cell_type": "code",
   "execution_count": 23,
   "id": "385cfb08",
   "metadata": {},
   "outputs": [],
   "source": [
    "def myfun(*args, **kwargs):\n",
    "    print(type(args))\n",
    "    print(type(kwargs))\n",
    "    return sum(args)+sum(kwargs.values())"
   ]
  },
  {
   "cell_type": "code",
   "execution_count": 24,
   "id": "b52326c5",
   "metadata": {},
   "outputs": [
    {
     "name": "stdout",
     "output_type": "stream",
     "text": [
      "<class 'tuple'>\n",
      "<class 'dict'>\n"
     ]
    },
    {
     "data": {
      "text/plain": [
       "54"
      ]
     },
     "execution_count": 24,
     "metadata": {},
     "output_type": "execute_result"
    }
   ],
   "source": [
    "myfun(1,2,3,5,6,7, k=10, p=20)"
   ]
  },
  {
   "cell_type": "code",
   "execution_count": 44,
   "id": "b4713ee9",
   "metadata": {},
   "outputs": [],
   "source": [
    "def myfun(*vals):\n",
    "    for x in vals:\n",
    "        print(x)"
   ]
  },
  {
   "cell_type": "code",
   "execution_count": 45,
   "id": "5675150a",
   "metadata": {},
   "outputs": [
    {
     "name": "stdout",
     "output_type": "stream",
     "text": [
      "(9, 8, 7, 6, 5)\n"
     ]
    }
   ],
   "source": [
    "values=(9,8,7,6,5)\n",
    "myfun(values)"
   ]
  },
  {
   "cell_type": "markdown",
   "id": "2c2eb9f6",
   "metadata": {},
   "source": [
    "### Unpacking"
   ]
  },
  {
   "cell_type": "code",
   "execution_count": 51,
   "id": "8a080a1c",
   "metadata": {},
   "outputs": [],
   "source": [
    "def myfun(val, val2, val3):\n",
    "    return sum((val, val2, val3))"
   ]
  },
  {
   "cell_type": "code",
   "execution_count": 54,
   "id": "0845fc59",
   "metadata": {},
   "outputs": [
    {
     "data": {
      "text/plain": [
       "6"
      ]
     },
     "execution_count": 54,
     "metadata": {},
     "output_type": "execute_result"
    }
   ],
   "source": [
    "p=(1,2,3)\n",
    "myfun(*p)"
   ]
  },
  {
   "cell_type": "code",
   "execution_count": 55,
   "id": "fa7b30d7",
   "metadata": {},
   "outputs": [],
   "source": [
    "import datetime"
   ]
  },
  {
   "cell_type": "code",
   "execution_count": 71,
   "id": "7c80a992",
   "metadata": {},
   "outputs": [],
   "source": [
    "def str_to_date(date_str):\n",
    "    li=[int(x) for x in date_str.split('-')]\n",
    "    return datetime.date(*li)"
   ]
  },
  {
   "cell_type": "code",
   "execution_count": 72,
   "id": "0bc715e1",
   "metadata": {},
   "outputs": [
    {
     "data": {
      "text/plain": [
       "datetime.date(2023, 5, 3)"
      ]
     },
     "execution_count": 72,
     "metadata": {},
     "output_type": "execute_result"
    }
   ],
   "source": [
    "str_to_date('2023-05-03')"
   ]
  },
  {
   "cell_type": "code",
   "execution_count": 75,
   "id": "3ea8122e",
   "metadata": {},
   "outputs": [
    {
     "name": "stdout",
     "output_type": "stream",
     "text": [
      "1 2 3 4 5\n"
     ]
    }
   ],
   "source": [
    "print(*(1,2,3,4,5)) # print(1,2,3,4,5)"
   ]
  },
  {
   "cell_type": "markdown",
   "id": "e70dcdf5",
   "metadata": {},
   "source": [
    "### Modules and Packages"
   ]
  },
  {
   "cell_type": "code",
   "execution_count": 76,
   "id": "dbd22d85",
   "metadata": {},
   "outputs": [],
   "source": [
    "# inbuilt\n",
    "import math"
   ]
  },
  {
   "cell_type": "code",
   "execution_count": 77,
   "id": "95ea1535",
   "metadata": {
    "collapsed": true
   },
   "outputs": [
    {
     "data": {
      "text/plain": [
       "['__doc__',\n",
       " '__loader__',\n",
       " '__name__',\n",
       " '__package__',\n",
       " '__spec__',\n",
       " 'acos',\n",
       " 'acosh',\n",
       " 'asin',\n",
       " 'asinh',\n",
       " 'atan',\n",
       " 'atan2',\n",
       " 'atanh',\n",
       " 'ceil',\n",
       " 'comb',\n",
       " 'copysign',\n",
       " 'cos',\n",
       " 'cosh',\n",
       " 'degrees',\n",
       " 'dist',\n",
       " 'e',\n",
       " 'erf',\n",
       " 'erfc',\n",
       " 'exp',\n",
       " 'expm1',\n",
       " 'fabs',\n",
       " 'factorial',\n",
       " 'floor',\n",
       " 'fmod',\n",
       " 'frexp',\n",
       " 'fsum',\n",
       " 'gamma',\n",
       " 'gcd',\n",
       " 'hypot',\n",
       " 'inf',\n",
       " 'isclose',\n",
       " 'isfinite',\n",
       " 'isinf',\n",
       " 'isnan',\n",
       " 'isqrt',\n",
       " 'lcm',\n",
       " 'ldexp',\n",
       " 'lgamma',\n",
       " 'log',\n",
       " 'log10',\n",
       " 'log1p',\n",
       " 'log2',\n",
       " 'modf',\n",
       " 'nan',\n",
       " 'nextafter',\n",
       " 'perm',\n",
       " 'pi',\n",
       " 'pow',\n",
       " 'prod',\n",
       " 'radians',\n",
       " 'remainder',\n",
       " 'sin',\n",
       " 'sinh',\n",
       " 'sqrt',\n",
       " 'tan',\n",
       " 'tanh',\n",
       " 'tau',\n",
       " 'trunc',\n",
       " 'ulp']"
      ]
     },
     "execution_count": 77,
     "metadata": {},
     "output_type": "execute_result"
    }
   ],
   "source": [
    "dir(math)"
   ]
  },
  {
   "cell_type": "code",
   "execution_count": 78,
   "id": "d320ac37",
   "metadata": {},
   "outputs": [
    {
     "data": {
      "text/plain": [
       "6.708203932499369"
      ]
     },
     "execution_count": 78,
     "metadata": {},
     "output_type": "execute_result"
    }
   ],
   "source": [
    "math.sqrt(45)"
   ]
  },
  {
   "cell_type": "code",
   "execution_count": 82,
   "id": "7acaffa0",
   "metadata": {},
   "outputs": [
    {
     "data": {
      "text/plain": [
       "'Return the sine of x (measured in radians).'"
      ]
     },
     "execution_count": 82,
     "metadata": {},
     "output_type": "execute_result"
    }
   ],
   "source": [
    "math.sin.__doc__"
   ]
  },
  {
   "cell_type": "code",
   "execution_count": 83,
   "id": "a5e3afce",
   "metadata": {},
   "outputs": [
    {
     "data": {
      "text/plain": [
       "0.9893582466233818"
      ]
     },
     "execution_count": 83,
     "metadata": {},
     "output_type": "execute_result"
    }
   ],
   "source": [
    "math.sin(8)"
   ]
  },
  {
   "cell_type": "code",
   "execution_count": 84,
   "id": "5899de17",
   "metadata": {},
   "outputs": [
    {
     "data": {
      "text/plain": [
       "6.708203932499369"
      ]
     },
     "execution_count": 84,
     "metadata": {},
     "output_type": "execute_result"
    }
   ],
   "source": [
    "# alias\n",
    "import math as m\n",
    "m.sqrt(45)"
   ]
  },
  {
   "cell_type": "code",
   "execution_count": 85,
   "id": "595380fc",
   "metadata": {},
   "outputs": [],
   "source": [
    "from math import sqrt"
   ]
  },
  {
   "cell_type": "code",
   "execution_count": 86,
   "id": "f49f16c6",
   "metadata": {},
   "outputs": [
    {
     "data": {
      "text/plain": [
       "6.708203932499369"
      ]
     },
     "execution_count": 86,
     "metadata": {},
     "output_type": "execute_result"
    }
   ],
   "source": [
    "sqrt(45)"
   ]
  },
  {
   "cell_type": "code",
   "execution_count": 87,
   "id": "3aa78fbd",
   "metadata": {},
   "outputs": [],
   "source": [
    "from math import sqrt as sq"
   ]
  },
  {
   "cell_type": "code",
   "execution_count": 88,
   "id": "4f517ae9",
   "metadata": {},
   "outputs": [
    {
     "data": {
      "text/plain": [
       "6.708203932499369"
      ]
     },
     "execution_count": 88,
     "metadata": {},
     "output_type": "execute_result"
    }
   ],
   "source": [
    "sq(45)"
   ]
  },
  {
   "cell_type": "code",
   "execution_count": 89,
   "id": "3edf790f",
   "metadata": {},
   "outputs": [],
   "source": [
    "from math import sqrt, sin, log10"
   ]
  },
  {
   "cell_type": "code",
   "execution_count": 90,
   "id": "cc74fbc4",
   "metadata": {},
   "outputs": [],
   "source": [
    "from math import *"
   ]
  },
  {
   "cell_type": "code",
   "execution_count": 91,
   "id": "9c089010",
   "metadata": {},
   "outputs": [
    {
     "data": {
      "text/plain": [
       "2.449489742783178"
      ]
     },
     "execution_count": 91,
     "metadata": {},
     "output_type": "execute_result"
    }
   ],
   "source": [
    "sqrt(6)"
   ]
  },
  {
   "cell_type": "code",
   "execution_count": 92,
   "id": "1443ed7d",
   "metadata": {},
   "outputs": [],
   "source": [
    "import math\n",
    "import math as m\n",
    "from math import sqrt\n",
    "from math import sqrt, sin, log\n",
    "from math import sqrt as s, sin as i, log as l\n",
    "from math import *"
   ]
  },
  {
   "cell_type": "code",
   "execution_count": 94,
   "id": "a3ad40b9",
   "metadata": {},
   "outputs": [],
   "source": [
    "# user defined module\n",
    "import basicmath as bm"
   ]
  },
  {
   "cell_type": "code",
   "execution_count": 95,
   "id": "1b793f7c",
   "metadata": {},
   "outputs": [
    {
     "data": {
      "text/plain": [
       "'this is message from my basic math module'"
      ]
     },
     "execution_count": 95,
     "metadata": {},
     "output_type": "execute_result"
    }
   ],
   "source": [
    "bm.msg()"
   ]
  },
  {
   "cell_type": "code",
   "execution_count": 97,
   "id": "0c9f1703",
   "metadata": {},
   "outputs": [
    {
     "data": {
      "text/plain": [
       "14"
      ]
     },
     "execution_count": 97,
     "metadata": {},
     "output_type": "execute_result"
    }
   ],
   "source": [
    "bm.add(5,6,2,1)"
   ]
  },
  {
   "cell_type": "code",
   "execution_count": 98,
   "id": "0865fb69",
   "metadata": {},
   "outputs": [
    {
     "data": {
      "text/plain": [
       "'calculate sum of 2 or more nums'"
      ]
     },
     "execution_count": 98,
     "metadata": {},
     "output_type": "execute_result"
    }
   ],
   "source": [
    "bm.add.__doc__"
   ]
  },
  {
   "cell_type": "code",
   "execution_count": 1,
   "id": "b0af79ea",
   "metadata": {},
   "outputs": [],
   "source": [
    "## package- user def"
   ]
  },
  {
   "cell_type": "code",
   "execution_count": 2,
   "id": "cefd39cc",
   "metadata": {},
   "outputs": [
    {
     "ename": "ModuleNotFoundError",
     "evalue": "No module named 'basicmath'",
     "output_type": "error",
     "traceback": [
      "\u001b[1;31m---------------------------------------------------------------------------\u001b[0m",
      "\u001b[1;31mModuleNotFoundError\u001b[0m                       Traceback (most recent call last)",
      "Input \u001b[1;32mIn [2]\u001b[0m, in \u001b[0;36m<cell line: 1>\u001b[1;34m()\u001b[0m\n\u001b[1;32m----> 1\u001b[0m \u001b[38;5;28;01mimport\u001b[39;00m \u001b[38;5;21;01mbasicmath\u001b[39;00m\n",
      "\u001b[1;31mModuleNotFoundError\u001b[0m: No module named 'basicmath'"
     ]
    }
   ],
   "source": [
    "import basicmath"
   ]
  },
  {
   "cell_type": "code",
   "execution_count": 4,
   "id": "4992559f",
   "metadata": {},
   "outputs": [],
   "source": [
    "from mymath import basicmath as bm"
   ]
  },
  {
   "cell_type": "code",
   "execution_count": 5,
   "id": "bb1a2d5a",
   "metadata": {},
   "outputs": [
    {
     "data": {
      "text/plain": [
       "8"
      ]
     },
     "execution_count": 5,
     "metadata": {},
     "output_type": "execute_result"
    }
   ],
   "source": [
    "bm.maximum(2,8)"
   ]
  },
  {
   "cell_type": "code",
   "execution_count": 1,
   "id": "fa0dd236",
   "metadata": {},
   "outputs": [],
   "source": [
    "from mymath.advmath import logTen"
   ]
  },
  {
   "cell_type": "code",
   "execution_count": 2,
   "id": "edbc550f",
   "metadata": {},
   "outputs": [
    {
     "data": {
      "text/plain": [
       "0.6989700043360189"
      ]
     },
     "execution_count": 2,
     "metadata": {},
     "output_type": "execute_result"
    }
   ],
   "source": [
    "logTen(5)"
   ]
  },
  {
   "cell_type": "markdown",
   "id": "757b97d4",
   "metadata": {},
   "source": [
    "# REGEX"
   ]
  },
  {
   "cell_type": "code",
   "execution_count": 3,
   "id": "abcea894",
   "metadata": {},
   "outputs": [],
   "source": [
    "import re"
   ]
  },
  {
   "cell_type": "code",
   "execution_count": 4,
   "id": "e769d65a",
   "metadata": {
    "collapsed": true
   },
   "outputs": [
    {
     "data": {
      "text/plain": [
       "['A',\n",
       " 'ASCII',\n",
       " 'DEBUG',\n",
       " 'DOTALL',\n",
       " 'I',\n",
       " 'IGNORECASE',\n",
       " 'L',\n",
       " 'LOCALE',\n",
       " 'M',\n",
       " 'MULTILINE',\n",
       " 'Match',\n",
       " 'Pattern',\n",
       " 'RegexFlag',\n",
       " 'S',\n",
       " 'Scanner',\n",
       " 'T',\n",
       " 'TEMPLATE',\n",
       " 'U',\n",
       " 'UNICODE',\n",
       " 'VERBOSE',\n",
       " 'X',\n",
       " '_MAXCACHE',\n",
       " '__all__',\n",
       " '__builtins__',\n",
       " '__cached__',\n",
       " '__doc__',\n",
       " '__file__',\n",
       " '__loader__',\n",
       " '__name__',\n",
       " '__package__',\n",
       " '__spec__',\n",
       " '__version__',\n",
       " '_cache',\n",
       " '_compile',\n",
       " '_compile_repl',\n",
       " '_expand',\n",
       " '_locale',\n",
       " '_pickle',\n",
       " '_special_chars_map',\n",
       " '_subx',\n",
       " 'compile',\n",
       " 'copyreg',\n",
       " 'enum',\n",
       " 'error',\n",
       " 'escape',\n",
       " 'findall',\n",
       " 'finditer',\n",
       " 'fullmatch',\n",
       " 'functools',\n",
       " 'match',\n",
       " 'purge',\n",
       " 'search',\n",
       " 'split',\n",
       " 'sre_compile',\n",
       " 'sre_parse',\n",
       " 'sub',\n",
       " 'subn',\n",
       " 'template']"
      ]
     },
     "execution_count": 4,
     "metadata": {},
     "output_type": "execute_result"
    }
   ],
   "source": [
    "dir(re)"
   ]
  },
  {
   "cell_type": "code",
   "execution_count": 5,
   "id": "bbb08e7d",
   "metadata": {},
   "outputs": [
    {
     "data": {
      "text/plain": [
       "'Try to apply the pattern at the start of the string, returning\\n    a Match object, or None if no match was found.'"
      ]
     },
     "execution_count": 5,
     "metadata": {},
     "output_type": "execute_result"
    }
   ],
   "source": [
    "re.match.__doc__"
   ]
  },
  {
   "cell_type": "code",
   "execution_count": 18,
   "id": "d42afeef",
   "metadata": {},
   "outputs": [
    {
     "data": {
      "text/plain": [
       "<re.Match object; span=(0, 2), match='te'>"
      ]
     },
     "execution_count": 18,
     "metadata": {},
     "output_type": "execute_result"
    }
   ],
   "source": [
    "# match(raw_str_pattern, str_text)\n",
    "re.match(r'\\bte', 'tell deloitte')"
   ]
  },
  {
   "cell_type": "code",
   "execution_count": 19,
   "id": "ea519808",
   "metadata": {},
   "outputs": [
    {
     "name": "stdout",
     "output_type": "stream",
     "text": [
      "None\n"
     ]
    }
   ],
   "source": [
    "print(re.match(r'te\\b', 'tell deloitte'))"
   ]
  },
  {
   "cell_type": "code",
   "execution_count": 20,
   "id": "0bfe8525",
   "metadata": {},
   "outputs": [
    {
     "data": {
      "text/plain": [
       "<re.Match object; span=(0, 0), match=''>"
      ]
     },
     "execution_count": 20,
     "metadata": {},
     "output_type": "execute_result"
    }
   ],
   "source": [
    "re.match(r'', 'tell deloitte')"
   ]
  },
  {
   "cell_type": "code",
   "execution_count": 23,
   "id": "48c59264",
   "metadata": {},
   "outputs": [],
   "source": [
    "re.match(r'\\s', 'tell deloitte')"
   ]
  },
  {
   "cell_type": "code",
   "execution_count": 25,
   "id": "65b48534",
   "metadata": {},
   "outputs": [],
   "source": [
    "re.match(r'\\d{10}', 'my number is 9808766699')"
   ]
  },
  {
   "cell_type": "code",
   "execution_count": 30,
   "id": "1930d7d4",
   "metadata": {},
   "outputs": [
    {
     "data": {
      "text/plain": [
       "<re.Match object; span=(15, 25), match='9808766699'>"
      ]
     },
     "execution_count": 30,
     "metadata": {},
     "output_type": "execute_result"
    }
   ],
   "source": [
    "re.search(r'\\d{10}', 'Alexa recharge 9808766699 and 9837772595')"
   ]
  },
  {
   "cell_type": "code",
   "execution_count": 31,
   "id": "35766efc",
   "metadata": {},
   "outputs": [
    {
     "data": {
      "text/plain": [
       "['9808766699', '9837772595']"
      ]
     },
     "execution_count": 31,
     "metadata": {},
     "output_type": "execute_result"
    }
   ],
   "source": [
    "re.findall(r'\\d{10}', 'Alexa recharge 9808766699 and 9837772595')"
   ]
  },
  {
   "cell_type": "code",
   "execution_count": 39,
   "id": "b0fb703d",
   "metadata": {},
   "outputs": [
    {
     "data": {
      "text/plain": [
       "4"
      ]
     },
     "execution_count": 39,
     "metadata": {},
     "output_type": "execute_result"
    }
   ],
   "source": [
    "len(re.findall(r'\\s', 'Alexa! recharge 9808766699 and 9837772595?'))"
   ]
  },
  {
   "cell_type": "code",
   "execution_count": 40,
   "id": "10571f83",
   "metadata": {},
   "outputs": [],
   "source": [
    "pattern=re.compile(r'\\W')"
   ]
  },
  {
   "cell_type": "code",
   "execution_count": 41,
   "id": "03ac68e6",
   "metadata": {},
   "outputs": [
    {
     "data": {
      "text/plain": [
       "['!', ' ', ' ', ' ', ' ', '?']"
      ]
     },
     "execution_count": 41,
     "metadata": {},
     "output_type": "execute_result"
    }
   ],
   "source": [
    "pattern.findall('Alexa! recharge 9808766699 and 9837772595?')"
   ]
  },
  {
   "cell_type": "code",
   "execution_count": 47,
   "id": "305af960",
   "metadata": {},
   "outputs": [
    {
     "data": {
      "text/plain": [
       "'ola is best. Uber is expensive.'"
      ]
     },
     "execution_count": 47,
     "metadata": {},
     "output_type": "execute_result"
    }
   ],
   "source": [
    "re.sub('uber', 'ola','Uber is best. Uber is expensive.', flags=re.IGNORECASE, count=1)"
   ]
  },
  {
   "cell_type": "code",
   "execution_count": 51,
   "id": "9bb0f7d7",
   "metadata": {},
   "outputs": [
    {
     "data": {
      "text/plain": [
       "['Uber is best and no ', '. Uber is no ', ' and expensive.']"
      ]
     },
     "execution_count": 51,
     "metadata": {},
     "output_type": "execute_result"
    }
   ],
   "source": [
    "re.split(r'\\d', 'Uber is best and no 1. Uber is no 2 and expensive.')"
   ]
  },
  {
   "cell_type": "code",
   "execution_count": 81,
   "id": "c0b90b18",
   "metadata": {},
   "outputs": [],
   "source": [
    "x=re.search(r'\\w+@deloitte.com', 'hello my email is prateek@deloitte.com')"
   ]
  },
  {
   "cell_type": "code",
   "execution_count": 82,
   "id": "88b5c7c8",
   "metadata": {},
   "outputs": [
    {
     "name": "stdout",
     "output_type": "stream",
     "text": [
      "<re.Match object; span=(18, 38), match='prateek@deloitte.com'>\n"
     ]
    }
   ],
   "source": [
    "print(x)"
   ]
  },
  {
   "cell_type": "code",
   "execution_count": 83,
   "id": "8c5288c5",
   "metadata": {},
   "outputs": [
    {
     "data": {
      "text/plain": [
       "18"
      ]
     },
     "execution_count": 83,
     "metadata": {},
     "output_type": "execute_result"
    }
   ],
   "source": [
    "x.start()"
   ]
  },
  {
   "cell_type": "code",
   "execution_count": 84,
   "id": "09a29fff",
   "metadata": {},
   "outputs": [
    {
     "data": {
      "text/plain": [
       "38"
      ]
     },
     "execution_count": 84,
     "metadata": {},
     "output_type": "execute_result"
    }
   ],
   "source": [
    "x.end()"
   ]
  },
  {
   "cell_type": "code",
   "execution_count": 87,
   "id": "54e2e40e",
   "metadata": {},
   "outputs": [
    {
     "data": {
      "text/plain": [
       "'prateek@deloitte.com'"
      ]
     },
     "execution_count": 87,
     "metadata": {},
     "output_type": "execute_result"
    }
   ],
   "source": [
    "x.group(0)"
   ]
  },
  {
   "cell_type": "markdown",
   "id": "f2afcb01",
   "metadata": {},
   "source": []
  }
 ],
 "metadata": {
  "kernelspec": {
   "display_name": "Python 3 (ipykernel)",
   "language": "python",
   "name": "python3"
  },
  "language_info": {
   "codemirror_mode": {
    "name": "ipython",
    "version": 3
   },
   "file_extension": ".py",
   "mimetype": "text/x-python",
   "name": "python",
   "nbconvert_exporter": "python",
   "pygments_lexer": "ipython3",
   "version": "3.9.12"
  }
 },
 "nbformat": 4,
 "nbformat_minor": 5
}
