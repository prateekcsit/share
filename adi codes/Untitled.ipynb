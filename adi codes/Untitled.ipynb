{
 "cells": [
  {
   "cell_type": "code",
   "execution_count": 13,
   "id": "db744932",
   "metadata": {},
   "outputs": [
    {
     "name": "stdout",
     "output_type": "stream",
     "text": [
      "(5) - (-10) = 15\n",
      "(5) - (-4) = 9\n",
      "(5) - (1) = 4\n",
      "(5) - (3) = 2\n",
      "(5) - (2) = 3\n",
      "max diff:  15\n"
     ]
    }
   ],
   "source": [
    "# Q1\n",
    "li=[-10, -4, 1,3,2,5,1]\n",
    "mx=max(li)\n",
    "idx=li.index(mx)\n",
    "diff=[]\n",
    "for i in range(idx):\n",
    "    diff.append(mx-li[i])\n",
    "    print(f'({mx}) - ({li[i]}) = {mx-li[i]}')\n",
    "print('max diff: ',max(diff))"
   ]
  },
  {
   "cell_type": "code",
   "execution_count": 14,
   "id": "75a54a08",
   "metadata": {},
   "outputs": [
    {
     "name": "stdout",
     "output_type": "stream",
     "text": [
      "a\n"
     ]
    }
   ],
   "source": [
    "#Q2\n",
    "with open('story.txt','r') as file:\n",
    "    text=file.read()\n",
    "    words=text.split()\n",
    "    words_set=set(words)\n",
    "    word_list=[]\n",
    "    freq=[]\n",
    "    for word in words_set:\n",
    "        word_list.append(word)\n",
    "        freq.append(words.count(word))\n",
    "        #print(f'{word} => {words.count(word)}')\n",
    "    mx=sorted(freq)[-2]\n",
    "    print(word_list[freq.index(mx)])"
   ]
  },
  {
   "cell_type": "code",
   "execution_count": 77,
   "id": "587c1726",
   "metadata": {},
   "outputs": [],
   "source": [
    "# Q3\n",
    "\n",
    "class Task:\n",
    "    def __init__(self, priority, name, assignee):\n",
    "        self.priority=priority\n",
    "        self.name=name\n",
    "        self.assignee=assignee\n",
    "        return None\n",
    "    \n",
    "class PriorityTasks(Task):\n",
    "    def __init__(self, priority, name, assignee):\n",
    "        self.priority=priority\n",
    "        self.name=name\n",
    "        self.assignee=assignee\n",
    "        self.create_task()\n",
    "        return None\n",
    "    def create_task(self):\n",
    "        return Task.__init__(self, self.priority, self.name, self.assignee)\n",
    "    def update_priority(self, new_priority):\n",
    "        if self.priority==-1:\n",
    "            self.__del__()\n",
    "        else:\n",
    "            self.priority=new_priority\n",
    "        return None\n",
    "    def list_tasks(self, task_list):\n",
    "        for task in task_list:\n",
    "            print(f'{task.name} created by {task.assignee} has priority as {task.priority}')\n",
    "        return None"
   ]
  },
  {
   "cell_type": "code",
   "execution_count": 78,
   "id": "d0a0896f",
   "metadata": {},
   "outputs": [],
   "source": [
    "task_list=[]"
   ]
  },
  {
   "cell_type": "code",
   "execution_count": 82,
   "id": "19f87bfd",
   "metadata": {},
   "outputs": [
    {
     "name": "stdout",
     "output_type": "stream",
     "text": [
      "Enter Choice: \n",
      "1. Create Task\n",
      "2. Update Task Priority\n",
      "3. List All Tasks Details\n",
      "4. Exit\n",
      "3\n",
      "t1 created by pv has priority as -1\n",
      "Enter Choice: \n",
      "1. Create Task\n",
      "2. Update Task Priority\n",
      "3. List All Tasks Details\n",
      "4. Exit\n",
      "2\n",
      "Enter Task Index: 0\n",
      "Provide Updated Task Priority: -1\n",
      "Enter Choice: \n",
      "1. Create Task\n",
      "2. Update Task Priority\n",
      "3. List All Tasks Details\n",
      "4. Exit\n",
      "3\n",
      "No Task To Display\n",
      "Enter Choice: \n",
      "1. Create Task\n",
      "2. Update Task Priority\n",
      "3. List All Tasks Details\n",
      "4. Exit\n",
      "4\n"
     ]
    }
   ],
   "source": [
    "while True:\n",
    "    print('Enter Choice: ')\n",
    "    print('1. Create Task')\n",
    "    print('2. Update Task Priority')\n",
    "    print('3. List All Tasks Details')\n",
    "    print('4. Exit')\n",
    "    choice=int(input())\n",
    "    if choice==1:\n",
    "        p=int(input('Enter Priroty: '))\n",
    "        n=input('Enter Name: ')\n",
    "        a=input('Enter Assignee Name: ')\n",
    "        obj=PriorityTasks(p,n,a)\n",
    "        task_list.append(obj)\n",
    "    elif choice==2:\n",
    "        indx=int(input('Enter Task Index: '))\n",
    "        p=int(input('Provide Updated Task Priority: '))\n",
    "        if p==-1:\n",
    "            del task_list[indx]\n",
    "        else:\n",
    "            task_list[indx].update_priority(p)\n",
    "    elif choice==3:\n",
    "        if len(task_list)==0:\n",
    "            print('No Task To Display')\n",
    "        else:\n",
    "            PriorityTasks.list_tasks(task_list[0], task_list)\n",
    "    elif choice==4:\n",
    "        break\n",
    "    else:\n",
    "        break"
   ]
  }
 ],
 "metadata": {
  "kernelspec": {
   "display_name": "Python 3 (ipykernel)",
   "language": "python",
   "name": "python3"
  },
  "language_info": {
   "codemirror_mode": {
    "name": "ipython",
    "version": 3
   },
   "file_extension": ".py",
   "mimetype": "text/x-python",
   "name": "python",
   "nbconvert_exporter": "python",
   "pygments_lexer": "ipython3",
   "version": "3.9.12"
  }
 },
 "nbformat": 4,
 "nbformat_minor": 5
}
